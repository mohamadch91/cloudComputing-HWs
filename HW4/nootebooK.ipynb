{
 "cells": [
  {
   "cell_type": "code",
   "execution_count": 25,
   "id": "c8da98d8",
   "metadata": {},
   "outputs": [],
   "source": [
    "import pyspark\n",
    "import pandas as pd\n",
    "from pyspark.sql import SparkSession\n",
    "from pyspark.ml.recommendation import ALS\n",
    "from pyspark.ml.evaluation import RegressionEvaluator"
   ]
  },
  {
   "cell_type": "code",
   "execution_count": 26,
   "id": "4c6df815",
   "metadata": {},
   "outputs": [
    {
     "data": {
      "text/html": [
       "<div>\n",
       "<style scoped>\n",
       "    .dataframe tbody tr th:only-of-type {\n",
       "        vertical-align: middle;\n",
       "    }\n",
       "\n",
       "    .dataframe tbody tr th {\n",
       "        vertical-align: top;\n",
       "    }\n",
       "\n",
       "    .dataframe thead th {\n",
       "        text-align: right;\n",
       "    }\n",
       "</style>\n",
       "<table border=\"1\" class=\"dataframe\">\n",
       "  <thead>\n",
       "    <tr style=\"text-align: right;\">\n",
       "      <th></th>\n",
       "      <th>game_id</th>\n",
       "      <th>user_id</th>\n",
       "      <th>rating</th>\n",
       "    </tr>\n",
       "  </thead>\n",
       "  <tbody>\n",
       "    <tr>\n",
       "      <th>0</th>\n",
       "      <td>1</td>\n",
       "      <td>314</td>\n",
       "      <td>5</td>\n",
       "    </tr>\n",
       "    <tr>\n",
       "      <th>1</th>\n",
       "      <td>1</td>\n",
       "      <td>439</td>\n",
       "      <td>3</td>\n",
       "    </tr>\n",
       "    <tr>\n",
       "      <th>2</th>\n",
       "      <td>1</td>\n",
       "      <td>588</td>\n",
       "      <td>5</td>\n",
       "    </tr>\n",
       "    <tr>\n",
       "      <th>3</th>\n",
       "      <td>1</td>\n",
       "      <td>1169</td>\n",
       "      <td>4</td>\n",
       "    </tr>\n",
       "    <tr>\n",
       "      <th>4</th>\n",
       "      <td>1</td>\n",
       "      <td>1185</td>\n",
       "      <td>4</td>\n",
       "    </tr>\n",
       "    <tr>\n",
       "      <th>...</th>\n",
       "      <td>...</td>\n",
       "      <td>...</td>\n",
       "      <td>...</td>\n",
       "    </tr>\n",
       "    <tr>\n",
       "      <th>981543</th>\n",
       "      <td>10000</td>\n",
       "      <td>48386</td>\n",
       "      <td>5</td>\n",
       "    </tr>\n",
       "    <tr>\n",
       "      <th>981544</th>\n",
       "      <td>10000</td>\n",
       "      <td>49007</td>\n",
       "      <td>4</td>\n",
       "    </tr>\n",
       "    <tr>\n",
       "      <th>981545</th>\n",
       "      <td>10000</td>\n",
       "      <td>49383</td>\n",
       "      <td>5</td>\n",
       "    </tr>\n",
       "    <tr>\n",
       "      <th>981546</th>\n",
       "      <td>10000</td>\n",
       "      <td>50124</td>\n",
       "      <td>5</td>\n",
       "    </tr>\n",
       "    <tr>\n",
       "      <th>981547</th>\n",
       "      <td>10000</td>\n",
       "      <td>51328</td>\n",
       "      <td>1</td>\n",
       "    </tr>\n",
       "  </tbody>\n",
       "</table>\n",
       "<p>981548 rows × 3 columns</p>\n",
       "</div>"
      ],
      "text/plain": [
       "        game_id  user_id  rating\n",
       "0             1      314       5\n",
       "1             1      439       3\n",
       "2             1      588       5\n",
       "3             1     1169       4\n",
       "4             1     1185       4\n",
       "...         ...      ...     ...\n",
       "981543    10000    48386       5\n",
       "981544    10000    49007       4\n",
       "981545    10000    49383       5\n",
       "981546    10000    50124       5\n",
       "981547    10000    51328       1\n",
       "\n",
       "[981548 rows x 3 columns]"
      ]
     },
     "execution_count": 26,
     "metadata": {},
     "output_type": "execute_result"
    }
   ],
   "source": [
    "# load data\n",
    "data = pd.read_csv('ratings.csv') \n",
    "matrix = data\n",
    "matrix"
   ]
  },
  {
   "cell_type": "code",
   "execution_count": 27,
   "id": "ba9d31b9",
   "metadata": {},
   "outputs": [
    {
     "data": {
      "text/html": [
       "\n",
       "            <div>\n",
       "                <p><b>SparkSession - in-memory</b></p>\n",
       "                \n",
       "        <div>\n",
       "            <p><b>SparkContext</b></p>\n",
       "\n",
       "            <p><a href=\"http://192.168.1.6:4040\">Spark UI</a></p>\n",
       "\n",
       "            <dl>\n",
       "              <dt>Version</dt>\n",
       "                <dd><code>v3.3.1</code></dd>\n",
       "              <dt>Master</dt>\n",
       "                <dd><code>local[*]</code></dd>\n",
       "              <dt>AppName</dt>\n",
       "                <dd><code>Games</code></dd>\n",
       "            </dl>\n",
       "        </div>\n",
       "        \n",
       "            </div>\n",
       "        "
      ],
      "text/plain": [
       "<pyspark.sql.session.SparkSession at 0x7fc28f83aa30>"
      ]
     },
     "execution_count": 27,
     "metadata": {},
     "output_type": "execute_result"
    }
   ],
   "source": [
    "spark = pyspark.sql.SparkSession.builder.appName('Games').getOrCreate()\n",
    "spark"
   ]
  },
  {
   "cell_type": "code",
   "execution_count": 28,
   "id": "1434b945",
   "metadata": {},
   "outputs": [],
   "source": [
    "# create spark dataframe with header and infer schema\n",
    "df = spark.read.csv('ratings.csv', header=True, inferSchema=True)\n",
    "\n",
    "# cast all the columns to int\n",
    "df = df.select(df.user_id.cast('int'), df.game_id.cast('int'), df.rating.cast('int'))"
   ]
  },
  {
   "cell_type": "code",
   "execution_count": 43,
   "id": "912ea7a0",
   "metadata": {},
   "outputs": [],
   "source": [
    "# build test and train data\n",
    "(train, test) = df.randomSplit([0.8, 0.2], seed = 42)"
   ]
  },
  {
   "cell_type": "code",
   "execution_count": 44,
   "id": "b12ce17c",
   "metadata": {},
   "outputs": [],
   "source": [
    "# build the recommendation model using ALS on the training data\n",
    "als = ALS(maxIter=5, regParam=0.01, userCol='user_id', itemCol='game_id', ratingCol='rating')"
   ]
  },
  {
   "cell_type": "code",
   "execution_count": 45,
   "id": "43f811bf",
   "metadata": {},
   "outputs": [],
   "source": [
    "# fit the model to the training data\n",
    "model = als.fit(train)"
   ]
  },
  {
   "cell_type": "code",
   "execution_count": 46,
   "id": "96fdb270",
   "metadata": {},
   "outputs": [],
   "source": [
    "# evaluate the model by computing the RMSE on the test data\n",
    "predictions = model.transform(test)\n",
    "evaluator = RegressionEvaluator(metricName='rmse', labelCol='rating', predictionCol='prediction')"
   ]
  },
  {
   "cell_type": "code",
   "execution_count": 47,
   "id": "9fb4fa90",
   "metadata": {},
   "outputs": [
    {
     "name": "stdout",
     "output_type": "stream",
     "text": [
      "Enter user id: 10\n"
     ]
    }
   ],
   "source": [
    "# get input user id\n",
    "id_input = int(input('Enter user id: '))"
   ]
  },
  {
   "cell_type": "code",
   "execution_count": 48,
   "id": "f720293e",
   "metadata": {},
   "outputs": [
    {
     "name": "stdout",
     "output_type": "stream",
     "text": [
      "+-------+-------+\n",
      "|game_id|user_id|\n",
      "+-------+-------+\n",
      "|   1506|     10|\n",
      "|   3409|     10|\n",
      "|   5084|     10|\n",
      "|   5926|     10|\n",
      "+-------+-------+\n",
      "\n"
     ]
    }
   ],
   "source": [
    "# make a single prediction\n",
    "single_user = test.filter(test['user_id']==id_input).select(['game_id', 'user_id'])\n",
    "single_user.show()"
   ]
  },
  {
   "cell_type": "code",
   "execution_count": 49,
   "id": "68e14028",
   "metadata": {},
   "outputs": [
    {
     "name": "stdout",
     "output_type": "stream",
     "text": [
      "recommendations\n",
      "+-------+-------+----------+\n",
      "|game_id|user_id|prediction|\n",
      "+-------+-------+----------+\n",
      "|   3409|     10| 4.2762156|\n",
      "|   5926|     10|   4.07368|\n",
      "|   1506|     10| 3.7054896|\n",
      "|   5084|     10| 3.6437006|\n",
      "+-------+-------+----------+\n",
      "\n"
     ]
    }
   ],
   "source": [
    "# recommend top 5 games for the user\n",
    "recommendations = model.transform(single_user)\n",
    "print('recommendations')\n",
    "recommendations.orderBy('prediction', ascending=False).show(n=5)"
   ]
  },
  {
   "cell_type": "code",
   "execution_count": 50,
   "id": "868bb057",
   "metadata": {},
   "outputs": [],
   "source": [
    "# list of game_id recommended to user \n",
    "game_id = recommendations.orderBy('prediction', ascending=False).select('game_id').collect()\n",
    "recomendation_score = recommendations.orderBy('prediction', ascending=False).select('prediction').collect()"
   ]
  },
  {
   "cell_type": "code",
   "execution_count": 51,
   "id": "766210fb",
   "metadata": {
    "scrolled": true
   },
   "outputs": [
    {
     "data": {
      "text/html": [
       "<div>\n",
       "<style scoped>\n",
       "    .dataframe tbody tr th:only-of-type {\n",
       "        vertical-align: middle;\n",
       "    }\n",
       "\n",
       "    .dataframe tbody tr th {\n",
       "        vertical-align: top;\n",
       "    }\n",
       "\n",
       "    .dataframe thead th {\n",
       "        text-align: right;\n",
       "    }\n",
       "</style>\n",
       "<table border=\"1\" class=\"dataframe\">\n",
       "  <thead>\n",
       "    <tr style=\"text-align: right;\">\n",
       "      <th></th>\n",
       "      <th>game_id</th>\n",
       "      <th>name</th>\n",
       "      <th>release_date</th>\n",
       "      <th>summary</th>\n",
       "      <th>meta_score</th>\n",
       "    </tr>\n",
       "  </thead>\n",
       "  <tbody>\n",
       "    <tr>\n",
       "      <th>0</th>\n",
       "      <td>1</td>\n",
       "      <td>The Legend of Zelda: Ocarina of Time</td>\n",
       "      <td>23-Nov-98</td>\n",
       "      <td>As a young boy, Link is tricked by Ganondorf, ...</td>\n",
       "      <td>99</td>\n",
       "    </tr>\n",
       "    <tr>\n",
       "      <th>1</th>\n",
       "      <td>2</td>\n",
       "      <td>Tony Hawk's Pro Skater 2</td>\n",
       "      <td>20-Sep-00</td>\n",
       "      <td>As most major publishers' development efforts ...</td>\n",
       "      <td>98</td>\n",
       "    </tr>\n",
       "    <tr>\n",
       "      <th>2</th>\n",
       "      <td>3</td>\n",
       "      <td>Grand Theft Auto IV</td>\n",
       "      <td>29-Apr-08</td>\n",
       "      <td>[Metacritic's 2008 PS3 Game of the Year; Also ...</td>\n",
       "      <td>98</td>\n",
       "    </tr>\n",
       "    <tr>\n",
       "      <th>3</th>\n",
       "      <td>4</td>\n",
       "      <td>SoulCalibur</td>\n",
       "      <td>8-Sep-99</td>\n",
       "      <td>This is a tale of souls and swords, transcendi...</td>\n",
       "      <td>98</td>\n",
       "    </tr>\n",
       "    <tr>\n",
       "      <th>4</th>\n",
       "      <td>5</td>\n",
       "      <td>Super Mario Galaxy</td>\n",
       "      <td>12-Nov-07</td>\n",
       "      <td>[Metacritic's 2007 Wii Game of the Year] The u...</td>\n",
       "      <td>97</td>\n",
       "    </tr>\n",
       "    <tr>\n",
       "      <th>...</th>\n",
       "      <td>...</td>\n",
       "      <td>...</td>\n",
       "      <td>...</td>\n",
       "      <td>...</td>\n",
       "      <td>...</td>\n",
       "    </tr>\n",
       "    <tr>\n",
       "      <th>9995</th>\n",
       "      <td>9996</td>\n",
       "      <td>Buku Sudoku</td>\n",
       "      <td>28-May-08</td>\n",
       "      <td>[Xbox Live Arcade] Experience the excitement o...</td>\n",
       "      <td>60</td>\n",
       "    </tr>\n",
       "    <tr>\n",
       "      <th>9996</th>\n",
       "      <td>9997</td>\n",
       "      <td>Guilty Gear Dust Strikers</td>\n",
       "      <td>25-Apr-06</td>\n",
       "      <td>The no holds barred, sci-fi fighting franchise...</td>\n",
       "      <td>60</td>\n",
       "    </tr>\n",
       "    <tr>\n",
       "      <th>9997</th>\n",
       "      <td>9998</td>\n",
       "      <td>The Shoot</td>\n",
       "      <td>19-Oct-10</td>\n",
       "      <td>The Shoot is a first-person oriented shooter g...</td>\n",
       "      <td>60</td>\n",
       "    </tr>\n",
       "    <tr>\n",
       "      <th>9998</th>\n",
       "      <td>9999</td>\n",
       "      <td>Spectra (2015)</td>\n",
       "      <td>10-Jul-15</td>\n",
       "      <td>Spectra is a twitch racing game. Blast your ni...</td>\n",
       "      <td>60</td>\n",
       "    </tr>\n",
       "    <tr>\n",
       "      <th>9999</th>\n",
       "      <td>10000</td>\n",
       "      <td>Lifeless Planet: Premier Edition</td>\n",
       "      <td>19-Jul-16</td>\n",
       "      <td>Lifeless Planet is a new 3D PC action adventur...</td>\n",
       "      <td>60</td>\n",
       "    </tr>\n",
       "  </tbody>\n",
       "</table>\n",
       "<p>10000 rows × 5 columns</p>\n",
       "</div>"
      ],
      "text/plain": [
       "      game_id                                  name release_date  \\\n",
       "0           1  The Legend of Zelda: Ocarina of Time    23-Nov-98   \n",
       "1           2              Tony Hawk's Pro Skater 2    20-Sep-00   \n",
       "2           3                   Grand Theft Auto IV    29-Apr-08   \n",
       "3           4                           SoulCalibur     8-Sep-99   \n",
       "4           5                    Super Mario Galaxy    12-Nov-07   \n",
       "...       ...                                   ...          ...   \n",
       "9995     9996                           Buku Sudoku    28-May-08   \n",
       "9996     9997             Guilty Gear Dust Strikers    25-Apr-06   \n",
       "9997     9998                             The Shoot    19-Oct-10   \n",
       "9998     9999                        Spectra (2015)    10-Jul-15   \n",
       "9999    10000      Lifeless Planet: Premier Edition    19-Jul-16   \n",
       "\n",
       "                                                summary  meta_score  \n",
       "0     As a young boy, Link is tricked by Ganondorf, ...          99  \n",
       "1     As most major publishers' development efforts ...          98  \n",
       "2     [Metacritic's 2008 PS3 Game of the Year; Also ...          98  \n",
       "3     This is a tale of souls and swords, transcendi...          98  \n",
       "4     [Metacritic's 2007 Wii Game of the Year] The u...          97  \n",
       "...                                                 ...         ...  \n",
       "9995  [Xbox Live Arcade] Experience the excitement o...          60  \n",
       "9996  The no holds barred, sci-fi fighting franchise...          60  \n",
       "9997  The Shoot is a first-person oriented shooter g...          60  \n",
       "9998  Spectra is a twitch racing game. Blast your ni...          60  \n",
       "9999  Lifeless Planet is a new 3D PC action adventur...          60  \n",
       "\n",
       "[10000 rows x 5 columns]"
      ]
     },
     "execution_count": 51,
     "metadata": {},
     "output_type": "execute_result"
    }
   ],
   "source": [
    "games = pd.read_csv('games.csv')\n",
    "games"
   ]
  },
  {
   "cell_type": "code",
   "execution_count": 52,
   "id": "a27021c0",
   "metadata": {},
   "outputs": [
    {
     "name": "stdout",
     "output_type": "stream",
     "text": [
      "1 : game: Guild Wars: Eye of the North   score: 4.276215553283691\n",
      "2 : game: NFL GameDay 2001   score: 4.0736799240112305\n",
      "3 : game: Super Mario Advance   score: 3.7054896354675293\n",
      "4 : game: Crimson Sea 2   score: 3.64370059967041\n"
     ]
    }
   ],
   "source": [
    "# print name game with game_id\n",
    "for i in range(len(game_id)):\n",
    "    game_data = games.loc[games['game_id'] == game_id[i][0]]\n",
    "    print(i+1 , ':', 'game:' ,game_data['name'].values[0], '  score:', recomendation_score[i][0])"
   ]
  },
  {
   "cell_type": "code",
   "execution_count": null,
   "id": "49fb1888",
   "metadata": {},
   "outputs": [],
   "source": []
  }
 ],
 "metadata": {
  "kernelspec": {
   "display_name": "Python 3 (ipykernel)",
   "language": "python",
   "name": "python3"
  },
  "language_info": {
   "codemirror_mode": {
    "name": "ipython",
    "version": 3
   },
   "file_extension": ".py",
   "mimetype": "text/x-python",
   "name": "python",
   "nbconvert_exporter": "python",
   "pygments_lexer": "ipython3",
   "version": "3.9.12"
  }
 },
 "nbformat": 4,
 "nbformat_minor": 5
}
