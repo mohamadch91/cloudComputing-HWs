{
 "cells": [
  {
   "cell_type": "code",
   "execution_count": 98,
   "id": "c8da98d8",
   "metadata": {},
   "outputs": [],
   "source": [
    "import pyspark\n",
    "import numpy as np\n",
    "import pandas as pd\n",
    "from pyspark.sql import SparkSession\n",
    "from pyspark.ml.recommendation import ALS\n",
    "from pyspark.ml.evaluation import RegressionEvaluator"
   ]
  },
  {
   "cell_type": "code",
   "execution_count": 100,
   "id": "4c6df815",
   "metadata": {},
   "outputs": [
    {
     "data": {
      "text/html": [
       "<div>\n",
       "<style scoped>\n",
       "    .dataframe tbody tr th:only-of-type {\n",
       "        vertical-align: middle;\n",
       "    }\n",
       "\n",
       "    .dataframe tbody tr th {\n",
       "        vertical-align: top;\n",
       "    }\n",
       "\n",
       "    .dataframe thead th {\n",
       "        text-align: right;\n",
       "    }\n",
       "</style>\n",
       "<table border=\"1\" class=\"dataframe\">\n",
       "  <thead>\n",
       "    <tr style=\"text-align: right;\">\n",
       "      <th></th>\n",
       "      <th>game_id</th>\n",
       "      <th>user_id</th>\n",
       "      <th>rating</th>\n",
       "    </tr>\n",
       "  </thead>\n",
       "  <tbody>\n",
       "    <tr>\n",
       "      <th>0</th>\n",
       "      <td>1</td>\n",
       "      <td>314</td>\n",
       "      <td>5</td>\n",
       "    </tr>\n",
       "    <tr>\n",
       "      <th>1</th>\n",
       "      <td>1</td>\n",
       "      <td>439</td>\n",
       "      <td>3</td>\n",
       "    </tr>\n",
       "    <tr>\n",
       "      <th>2</th>\n",
       "      <td>1</td>\n",
       "      <td>588</td>\n",
       "      <td>5</td>\n",
       "    </tr>\n",
       "    <tr>\n",
       "      <th>3</th>\n",
       "      <td>1</td>\n",
       "      <td>1169</td>\n",
       "      <td>4</td>\n",
       "    </tr>\n",
       "    <tr>\n",
       "      <th>4</th>\n",
       "      <td>1</td>\n",
       "      <td>1185</td>\n",
       "      <td>4</td>\n",
       "    </tr>\n",
       "    <tr>\n",
       "      <th>...</th>\n",
       "      <td>...</td>\n",
       "      <td>...</td>\n",
       "      <td>...</td>\n",
       "    </tr>\n",
       "    <tr>\n",
       "      <th>981543</th>\n",
       "      <td>10000</td>\n",
       "      <td>48386</td>\n",
       "      <td>5</td>\n",
       "    </tr>\n",
       "    <tr>\n",
       "      <th>981544</th>\n",
       "      <td>10000</td>\n",
       "      <td>49007</td>\n",
       "      <td>4</td>\n",
       "    </tr>\n",
       "    <tr>\n",
       "      <th>981545</th>\n",
       "      <td>10000</td>\n",
       "      <td>49383</td>\n",
       "      <td>5</td>\n",
       "    </tr>\n",
       "    <tr>\n",
       "      <th>981546</th>\n",
       "      <td>10000</td>\n",
       "      <td>50124</td>\n",
       "      <td>5</td>\n",
       "    </tr>\n",
       "    <tr>\n",
       "      <th>981547</th>\n",
       "      <td>10000</td>\n",
       "      <td>51328</td>\n",
       "      <td>1</td>\n",
       "    </tr>\n",
       "  </tbody>\n",
       "</table>\n",
       "<p>981548 rows × 3 columns</p>\n",
       "</div>"
      ],
      "text/plain": [
       "        game_id  user_id  rating\n",
       "0             1      314       5\n",
       "1             1      439       3\n",
       "2             1      588       5\n",
       "3             1     1169       4\n",
       "4             1     1185       4\n",
       "...         ...      ...     ...\n",
       "981543    10000    48386       5\n",
       "981544    10000    49007       4\n",
       "981545    10000    49383       5\n",
       "981546    10000    50124       5\n",
       "981547    10000    51328       1\n",
       "\n",
       "[981548 rows x 3 columns]"
      ]
     },
     "execution_count": 100,
     "metadata": {},
     "output_type": "execute_result"
    }
   ],
   "source": [
    "# load data\n",
    "data = pd.read_csv('ratings.csv') \n",
    "matrix = data\n",
    "matrix"
   ]
  },
  {
   "cell_type": "code",
   "execution_count": 102,
   "id": "ba9d31b9",
   "metadata": {},
   "outputs": [
    {
     "data": {
      "text/html": [
       "\n",
       "            <div>\n",
       "                <p><b>SparkSession - in-memory</b></p>\n",
       "                \n",
       "        <div>\n",
       "            <p><b>SparkContext</b></p>\n",
       "\n",
       "            <p><a href=\"http://localhost:4040\">Spark UI</a></p>\n",
       "\n",
       "            <dl>\n",
       "              <dt>Version</dt>\n",
       "                <dd><code>v3.3.1</code></dd>\n",
       "              <dt>Master</dt>\n",
       "                <dd><code>local[*]</code></dd>\n",
       "              <dt>AppName</dt>\n",
       "                <dd><code>Games</code></dd>\n",
       "            </dl>\n",
       "        </div>\n",
       "        \n",
       "            </div>\n",
       "        "
      ],
      "text/plain": [
       "<pyspark.sql.session.SparkSession at 0x7ff68ae6c8b0>"
      ]
     },
     "execution_count": 102,
     "metadata": {},
     "output_type": "execute_result"
    }
   ],
   "source": [
    "# create spark session\n",
    "spark = pyspark.sql.SparkSession.builder.getOrCreate()\n",
    "spark"
   ]
  },
  {
   "cell_type": "code",
   "execution_count": 103,
   "id": "1434b945",
   "metadata": {},
   "outputs": [
    {
     "name": "stdout",
     "output_type": "stream",
     "text": [
      "+-------+-------+------+\n",
      "|game_id|user_id|rating|\n",
      "+-------+-------+------+\n",
      "|      1|    314|     5|\n",
      "|      1|    439|     3|\n",
      "|      1|    588|     5|\n",
      "|      1|   1169|     4|\n",
      "|      1|   1185|     4|\n",
      "|      1|   2077|     4|\n",
      "|      1|   2487|     4|\n",
      "|      1|   2900|     5|\n",
      "|      1|   3662|     4|\n",
      "|      1|   3922|     5|\n",
      "|      1|   5379|     5|\n",
      "|      1|   5461|     3|\n",
      "|      1|   5885|     5|\n",
      "|      1|   6630|     5|\n",
      "|      1|   7563|     3|\n",
      "|      1|   9246|     1|\n",
      "|      1|  10140|     4|\n",
      "|      1|  10146|     5|\n",
      "|      1|  10246|     4|\n",
      "|      1|  10335|     4|\n",
      "+-------+-------+------+\n",
      "only showing top 20 rows\n",
      "\n"
     ]
    }
   ],
   "source": [
    "# create spark dataframe with header and infer schema\n",
    "# read our data from ratings.csv\n",
    "# header -> Record For Column Names \n",
    "# inferSchema -> automatically infers column types based on the data\n",
    "df = spark.read.csv('ratings.csv', header=True, inferSchema=True)\n",
    "df.show()"
   ]
  },
  {
   "cell_type": "code",
   "execution_count": 104,
   "id": "681027a0",
   "metadata": {},
   "outputs": [],
   "source": [
    "# # cast all the columns to int\n",
    "# df = df.select(df.game_id.cast('int'), df.user_id.cast('int'), df.rating.cast('int'))\n",
    "# df"
   ]
  },
  {
   "cell_type": "code",
   "execution_count": 105,
   "id": "912ea7a0",
   "metadata": {},
   "outputs": [],
   "source": [
    "# build test and train data\n",
    "# 80% training & 20% testing\n",
    "# Calling the function with the same seed will always generate the same results\n",
    "(train, test) = df.randomSplit([0.8, 0.2], seed = 21)"
   ]
  },
  {
   "cell_type": "code",
   "execution_count": 106,
   "id": "b12ce17c",
   "metadata": {},
   "outputs": [],
   "source": [
    "# build the recommendation model using ALS on the training data\n",
    "# maxIter -> maximum number of iterations to run\n",
    "# regParam -> regularization parameter in ALS\n",
    "als = ALS(maxIter=5, regParam=0.01, implicitPrefs=True, userCol='user_id', itemCol='game_id', ratingCol='rating')"
   ]
  },
  {
   "cell_type": "code",
   "execution_count": 107,
   "id": "43f811bf",
   "metadata": {},
   "outputs": [],
   "source": [
    "# fit the model to the training data\n",
    "model = als.fit(train)"
   ]
  },
  {
   "cell_type": "code",
   "execution_count": 108,
   "id": "96fdb270",
   "metadata": {},
   "outputs": [
    {
     "name": "stdout",
     "output_type": "stream",
     "text": [
      "+-------+-------+------+----------+\n",
      "|game_id|user_id|rating|prediction|\n",
      "+-------+-------+------+----------+\n",
      "|      2|   3922|     5|  4.151307|\n",
      "|      2|   6630|     5| 4.4779553|\n",
      "|      2|  11408|     5| 2.5717492|\n",
      "|      1|   5461|     3| 4.3839583|\n",
      "|      2|   5461|     4| 4.2908974|\n",
      "|      1|  42404|     5|  5.257044|\n",
      "|      1|  47800|     5|  5.572372|\n",
      "|      1|  21487|     4| 4.2775555|\n",
      "|      1|  33716|     5|  4.349917|\n",
      "|      1|  51166|     4| 5.2130127|\n",
      "|      1|  45493|     5|  5.046213|\n",
      "|      1|  39423|     3| 4.1388044|\n",
      "|      1|  50342|     3| 3.7535079|\n",
      "|      1|  47746|     5| 5.0195885|\n",
      "|      1|  46977|     4|  3.430758|\n",
      "|      1|  10944|     5| 4.2032537|\n",
      "|      2|  10944|     5| 3.5444605|\n",
      "|      2|  11945|     5|  4.751916|\n",
      "|      1|  45269|     4| 4.0640707|\n",
      "|      2|   5436|     5| 4.7578287|\n",
      "+-------+-------+------+----------+\n",
      "only showing top 20 rows\n",
      "\n"
     ]
    }
   ],
   "source": [
    "# evaluate the model by computing the RMSE on the test data\n",
    "# evaluate the model by computing the RMSE on the test data\n",
    "# algorithm which can transform one DataFrame into another DataFrame\n",
    "predictions = model.transform(test)\n",
    "predictions.show()\n",
    "\n",
    "evaluator = RegressionEvaluator(metricName='rmse', labelCol='rating', predictionCol='prediction')"
   ]
  },
  {
   "cell_type": "code",
   "execution_count": 111,
   "id": "9fb4fa90",
   "metadata": {},
   "outputs": [
    {
     "name": "stdout",
     "output_type": "stream",
     "text": [
      "Enter user id: 10\n"
     ]
    }
   ],
   "source": [
    "# get input user id\n",
    "user_id = int(input('Enter user id: '))"
   ]
  },
  {
   "cell_type": "code",
   "execution_count": 115,
   "id": "244631a4",
   "metadata": {},
   "outputs": [
    {
     "name": "stderr",
     "output_type": "stream",
     "text": [
      "[Stage 1267:==================================================>  (96 + 4) / 100]\r"
     ]
    },
    {
     "name": "stdout",
     "output_type": "stream",
     "text": [
      "+-------+--------------------+\n",
      "|user_id|     recommendations|\n",
      "+-------+--------------------+\n",
      "|     31|[{9412, 5.578423}...|\n",
      "|     34|[{9412, 3.3297641...|\n",
      "|     53|[{8946, 4.994873}...|\n",
      "|     65|[{3181, 6.6603622...|\n",
      "|     78|[{7639, 3.1406672...|\n",
      "|     85|[{8555, 6.6500525...|\n",
      "|    108|[{6449, 4.4756393...|\n",
      "|    133|[{7803, 11.09249}...|\n",
      "|    137|[{8555, 9.96393},...|\n",
      "|    148|[{4410, 9.5292225...|\n",
      "|    155|[{7334, 5.533655}...|\n",
      "|    193|[{6160, 17.450933...|\n",
      "|    211|[{6771, 10.063102...|\n",
      "|    243|[{9182, 8.83362},...|\n",
      "|    251|[{9182, 7.3292828...|\n",
      "|    255|[{9412, 5.6479406...|\n",
      "|    296|[{7639, 7.5977874...|\n",
      "|    321|[{9344, 7.11565},...|\n",
      "|    322|[{4410, 6.1085033...|\n",
      "|    362|[{8181, 7.704907}...|\n",
      "+-------+--------------------+\n",
      "only showing top 20 rows\n",
      "\n"
     ]
    },
    {
     "name": "stderr",
     "output_type": "stream",
     "text": [
      "\r",
      "                                                                                \r"
     ]
    }
   ],
   "source": [
    "# Generate top 10 movie recommendations for each user\n",
    "userRecs = model.recommendForAllUsers(5)\n",
    "userRecs.show()"
   ]
  },
  {
   "cell_type": "code",
   "execution_count": 117,
   "id": "2214f06a",
   "metadata": {},
   "outputs": [
    {
     "name": "stderr",
     "output_type": "stream",
     "text": [
      "                                                                                \r"
     ]
    }
   ],
   "source": [
    "# show userRecs with user_id with prediction score\n",
    "# userRecs.filter(userRecs['user_id']==user_id).show()\n",
    "recom_list = userRecs.filter(userRecs['user_id']==user_id).select('recommendations').collect()"
   ]
  },
  {
   "cell_type": "code",
   "execution_count": 118,
   "id": "7e019c3b",
   "metadata": {},
   "outputs": [
    {
     "name": "stdout",
     "output_type": "stream",
     "text": [
      "1 : game: X-Squad score: 16.240812301635742\n",
      "2 : game: Bust-A-Move DS score: 14.142559051513672\n",
      "3 : game: EA Sports UFC score: 13.57870101928711\n",
      "4 : game: SpellForce: The Order of Dawn score: 12.950912475585938\n",
      "5 : game: 8-Bit Armies score: 12.894984245300293\n"
     ]
    }
   ],
   "source": [
    "# print name game with game_id\n",
    "games = pd.read_csv('games.csv')\n",
    "for i in range(len(recom_list[0][0])):\n",
    "    game_data = games.loc[games['game_id'] == recom_list[0][0][i][0]]\n",
    "    print(i+1 , ':', 'game:' ,game_data['name'].values[0], 'score:', recom_list[0][0][i][1])"
   ]
  },
  {
   "cell_type": "code",
   "execution_count": null,
   "id": "f731e727",
   "metadata": {},
   "outputs": [],
   "source": []
  },
  {
   "cell_type": "code",
   "execution_count": null,
   "id": "7736d049",
   "metadata": {},
   "outputs": [],
   "source": []
  },
  {
   "cell_type": "code",
   "execution_count": null,
   "id": "eb00cb3b",
   "metadata": {},
   "outputs": [],
   "source": []
  },
  {
   "cell_type": "code",
   "execution_count": null,
   "id": "371f862a",
   "metadata": {},
   "outputs": [],
   "source": []
  },
  {
   "cell_type": "code",
   "execution_count": null,
   "id": "b0e687ff",
   "metadata": {},
   "outputs": [],
   "source": []
  },
  {
   "cell_type": "code",
   "execution_count": 68,
   "id": "f720293e",
   "metadata": {},
   "outputs": [
    {
     "name": "stdout",
     "output_type": "stream",
     "text": [
      "+-------+-------+\n",
      "|game_id|user_id|\n",
      "+-------+-------+\n",
      "|   4893|      1|\n",
      "+-------+-------+\n",
      "\n"
     ]
    }
   ],
   "source": [
    "# make a single prediction\n",
    "single_user = test.filter(test['user_id']==id_input).select(['game_id', 'user_id'])\n",
    "single_user.show()"
   ]
  },
  {
   "cell_type": "code",
   "execution_count": 32,
   "id": "68e14028",
   "metadata": {},
   "outputs": [
    {
     "name": "stdout",
     "output_type": "stream",
     "text": [
      "recommendations\n",
      "+-------+-------+----------+\n",
      "|game_id|user_id|prediction|\n",
      "+-------+-------+----------+\n",
      "|   8072|      5| 2.4990234|\n",
      "|   6703|      5| 1.1887991|\n",
      "+-------+-------+----------+\n",
      "\n"
     ]
    }
   ],
   "source": [
    "# recommend top 5 games for the user\n",
    "recommendations = model.transform(single_user)\n",
    "print('recommendations')\n",
    "recommendations.orderBy('prediction', ascending=False).show(n=5)"
   ]
  },
  {
   "cell_type": "code",
   "execution_count": 19,
   "id": "868bb057",
   "metadata": {},
   "outputs": [],
   "source": [
    "# list of game_id recommended to user \n",
    "game_id = recommendations.orderBy('prediction', ascending=False).select('game_id').collect()\n",
    "recomendation_score = recommendations.orderBy('prediction', ascending=False).select('prediction').collect()"
   ]
  },
  {
   "cell_type": "code",
   "execution_count": 20,
   "id": "766210fb",
   "metadata": {
    "scrolled": true
   },
   "outputs": [
    {
     "data": {
      "text/html": [
       "<div>\n",
       "<style scoped>\n",
       "    .dataframe tbody tr th:only-of-type {\n",
       "        vertical-align: middle;\n",
       "    }\n",
       "\n",
       "    .dataframe tbody tr th {\n",
       "        vertical-align: top;\n",
       "    }\n",
       "\n",
       "    .dataframe thead th {\n",
       "        text-align: right;\n",
       "    }\n",
       "</style>\n",
       "<table border=\"1\" class=\"dataframe\">\n",
       "  <thead>\n",
       "    <tr style=\"text-align: right;\">\n",
       "      <th></th>\n",
       "      <th>game_id</th>\n",
       "      <th>name</th>\n",
       "      <th>release_date</th>\n",
       "      <th>summary</th>\n",
       "      <th>meta_score</th>\n",
       "    </tr>\n",
       "  </thead>\n",
       "  <tbody>\n",
       "    <tr>\n",
       "      <th>0</th>\n",
       "      <td>1</td>\n",
       "      <td>The Legend of Zelda: Ocarina of Time</td>\n",
       "      <td>23-Nov-98</td>\n",
       "      <td>As a young boy, Link is tricked by Ganondorf, ...</td>\n",
       "      <td>99</td>\n",
       "    </tr>\n",
       "    <tr>\n",
       "      <th>1</th>\n",
       "      <td>2</td>\n",
       "      <td>Tony Hawk's Pro Skater 2</td>\n",
       "      <td>20-Sep-00</td>\n",
       "      <td>As most major publishers' development efforts ...</td>\n",
       "      <td>98</td>\n",
       "    </tr>\n",
       "    <tr>\n",
       "      <th>2</th>\n",
       "      <td>3</td>\n",
       "      <td>Grand Theft Auto IV</td>\n",
       "      <td>29-Apr-08</td>\n",
       "      <td>[Metacritic's 2008 PS3 Game of the Year; Also ...</td>\n",
       "      <td>98</td>\n",
       "    </tr>\n",
       "    <tr>\n",
       "      <th>3</th>\n",
       "      <td>4</td>\n",
       "      <td>SoulCalibur</td>\n",
       "      <td>8-Sep-99</td>\n",
       "      <td>This is a tale of souls and swords, transcendi...</td>\n",
       "      <td>98</td>\n",
       "    </tr>\n",
       "    <tr>\n",
       "      <th>4</th>\n",
       "      <td>5</td>\n",
       "      <td>Super Mario Galaxy</td>\n",
       "      <td>12-Nov-07</td>\n",
       "      <td>[Metacritic's 2007 Wii Game of the Year] The u...</td>\n",
       "      <td>97</td>\n",
       "    </tr>\n",
       "    <tr>\n",
       "      <th>...</th>\n",
       "      <td>...</td>\n",
       "      <td>...</td>\n",
       "      <td>...</td>\n",
       "      <td>...</td>\n",
       "      <td>...</td>\n",
       "    </tr>\n",
       "    <tr>\n",
       "      <th>9995</th>\n",
       "      <td>9996</td>\n",
       "      <td>Buku Sudoku</td>\n",
       "      <td>28-May-08</td>\n",
       "      <td>[Xbox Live Arcade] Experience the excitement o...</td>\n",
       "      <td>60</td>\n",
       "    </tr>\n",
       "    <tr>\n",
       "      <th>9996</th>\n",
       "      <td>9997</td>\n",
       "      <td>Guilty Gear Dust Strikers</td>\n",
       "      <td>25-Apr-06</td>\n",
       "      <td>The no holds barred, sci-fi fighting franchise...</td>\n",
       "      <td>60</td>\n",
       "    </tr>\n",
       "    <tr>\n",
       "      <th>9997</th>\n",
       "      <td>9998</td>\n",
       "      <td>The Shoot</td>\n",
       "      <td>19-Oct-10</td>\n",
       "      <td>The Shoot is a first-person oriented shooter g...</td>\n",
       "      <td>60</td>\n",
       "    </tr>\n",
       "    <tr>\n",
       "      <th>9998</th>\n",
       "      <td>9999</td>\n",
       "      <td>Spectra (2015)</td>\n",
       "      <td>10-Jul-15</td>\n",
       "      <td>Spectra is a twitch racing game. Blast your ni...</td>\n",
       "      <td>60</td>\n",
       "    </tr>\n",
       "    <tr>\n",
       "      <th>9999</th>\n",
       "      <td>10000</td>\n",
       "      <td>Lifeless Planet: Premier Edition</td>\n",
       "      <td>19-Jul-16</td>\n",
       "      <td>Lifeless Planet is a new 3D PC action adventur...</td>\n",
       "      <td>60</td>\n",
       "    </tr>\n",
       "  </tbody>\n",
       "</table>\n",
       "<p>10000 rows × 5 columns</p>\n",
       "</div>"
      ],
      "text/plain": [
       "      game_id                                  name release_date  \\\n",
       "0           1  The Legend of Zelda: Ocarina of Time    23-Nov-98   \n",
       "1           2              Tony Hawk's Pro Skater 2    20-Sep-00   \n",
       "2           3                   Grand Theft Auto IV    29-Apr-08   \n",
       "3           4                           SoulCalibur     8-Sep-99   \n",
       "4           5                    Super Mario Galaxy    12-Nov-07   \n",
       "...       ...                                   ...          ...   \n",
       "9995     9996                           Buku Sudoku    28-May-08   \n",
       "9996     9997             Guilty Gear Dust Strikers    25-Apr-06   \n",
       "9997     9998                             The Shoot    19-Oct-10   \n",
       "9998     9999                        Spectra (2015)    10-Jul-15   \n",
       "9999    10000      Lifeless Planet: Premier Edition    19-Jul-16   \n",
       "\n",
       "                                                summary  meta_score  \n",
       "0     As a young boy, Link is tricked by Ganondorf, ...          99  \n",
       "1     As most major publishers' development efforts ...          98  \n",
       "2     [Metacritic's 2008 PS3 Game of the Year; Also ...          98  \n",
       "3     This is a tale of souls and swords, transcendi...          98  \n",
       "4     [Metacritic's 2007 Wii Game of the Year] The u...          97  \n",
       "...                                                 ...         ...  \n",
       "9995  [Xbox Live Arcade] Experience the excitement o...          60  \n",
       "9996  The no holds barred, sci-fi fighting franchise...          60  \n",
       "9997  The Shoot is a first-person oriented shooter g...          60  \n",
       "9998  Spectra is a twitch racing game. Blast your ni...          60  \n",
       "9999  Lifeless Planet is a new 3D PC action adventur...          60  \n",
       "\n",
       "[10000 rows x 5 columns]"
      ]
     },
     "execution_count": 20,
     "metadata": {},
     "output_type": "execute_result"
    }
   ],
   "source": [
    "games = pd.read_csv('games.csv')\n",
    "games"
   ]
  },
  {
   "cell_type": "code",
   "execution_count": 21,
   "id": "a27021c0",
   "metadata": {},
   "outputs": [],
   "source": [
    "# print name game with game_id\n",
    "for i in range(len(game_id)):\n",
    "    game_data = games.loc[games['game_id'] == game_id[i][0]]\n",
    "    print(i+1 , ':', 'game:' ,game_data['name'].values[0], '  score:', recomendation_score[i][0])"
   ]
  },
  {
   "cell_type": "code",
   "execution_count": null,
   "id": "49fb1888",
   "metadata": {},
   "outputs": [],
   "source": []
  }
 ],
 "metadata": {
  "kernelspec": {
   "display_name": "Python 3 (ipykernel)",
   "language": "python",
   "name": "python3"
  },
  "language_info": {
   "codemirror_mode": {
    "name": "ipython",
    "version": 3
   },
   "file_extension": ".py",
   "mimetype": "text/x-python",
   "name": "python",
   "nbconvert_exporter": "python",
   "pygments_lexer": "ipython3",
   "version": "3.9.12"
  }
 },
 "nbformat": 4,
 "nbformat_minor": 5
}
